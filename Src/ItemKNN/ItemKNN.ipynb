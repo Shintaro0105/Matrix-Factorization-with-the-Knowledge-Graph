{
 "cells": [
  {
   "cell_type": "code",
   "execution_count": 2,
   "id": "c368698a-088b-4f46-8f56-071efe219027",
   "metadata": {},
   "outputs": [
    {
     "name": "stdout",
     "output_type": "stream",
     "text": [
      "[Case Recommender: Item Recommendation > ItemKNN Algorithm]\n",
      "\n",
      "train data:: 3875 users and 9324 items (258697 interactions) | sparsity:: 99.28%\n",
      "test data:: 3017 users and 6491 items (64675 interactions) | sparsity:: 99.67%\n",
      "\n",
      "training_time:: 221.444799 sec\n",
      "prediction_time:: 459.745803 sec\n",
      "\n",
      "\n",
      "Eval:: PREC@10: 0.169274 PREC@20: 0.084637 RECALL@10: 0.120328 RECALL@20: 0.120328 MAP@10: 0.316934 MAP@20: 0.316934 NDCG@10: 0.409465 NDCG@20: 0.409465 \n"
     ]
    }
   ],
   "source": [
    "from caserec.recommenders.item_recommendation.itemknn import ItemKNN\n",
    "ItemKNN(train_file='../data/um_0.8.train', test_file='../data/um_0.8.test', output_file='ItemKNN.dat').compute(n_ranks=[10,20])"
   ]
  },
  {
   "cell_type": "code",
   "execution_count": null,
   "id": "87faf1d1-e6af-4091-8603-c725bd25d68d",
   "metadata": {},
   "outputs": [],
   "source": []
  }
 ],
 "metadata": {
  "kernelspec": {
   "display_name": "Python 3 (ipykernel)",
   "language": "python",
   "name": "python3"
  },
  "language_info": {
   "codemirror_mode": {
    "name": "ipython",
    "version": 3
   },
   "file_extension": ".py",
   "mimetype": "text/x-python",
   "name": "python",
   "nbconvert_exporter": "python",
   "pygments_lexer": "ipython3",
   "version": "3.9.12"
  }
 },
 "nbformat": 4,
 "nbformat_minor": 5
}
