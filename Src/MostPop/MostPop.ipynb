{
 "cells": [
  {
   "cell_type": "code",
   "execution_count": 2,
   "id": "38c34722-f43b-428b-ad8d-b64b907fd80c",
   "metadata": {},
   "outputs": [
    {
     "name": "stdout",
     "output_type": "stream",
     "text": [
      "[Case Recommender: Item Recommendation > Random Recommender]\n",
      "\n",
      "train data:: 3875 users and 9324 items (258697 interactions) | sparsity:: 99.28%\n",
      "test data:: 3017 users and 6491 items (64675 interactions) | sparsity:: 99.67%\n",
      "\n",
      "prediction_time:: 17.522358 sec\n",
      "\n",
      "\n",
      "Eval:: PREC@1: 0.002652 PREC@3: 0.002099 PREC@5: 0.001989 PREC@10: 0.002287 RECALL@1: 7.9e-05 RECALL@3: 0.000157 RECALL@5: 0.000258 RECALL@10: 0.000819 MAP@1: 0.002652 MAP@3: 0.004254 MAP@5: 0.005082 MAP@10: 0.006581 NDCG@1: 0.002652 NDCG@3: 0.005808 NDCG@5: 0.007516 NDCG@10: 0.011495 \n"
     ]
    }
   ],
   "source": [
    "from caserec.recommenders.item_recommendation.random_rec import RandomRec\n",
    "RandomRec(train_file='../data/um_0.8.train', test_file='../data/um_0.8.test').compute()"
   ]
  },
  {
   "cell_type": "code",
   "execution_count": null,
   "id": "5add52c0-b0ac-4ef6-9097-61a8bd84769a",
   "metadata": {},
   "outputs": [],
   "source": []
  }
 ],
 "metadata": {
  "kernelspec": {
   "display_name": "Python 3 (ipykernel)",
   "language": "python",
   "name": "python3"
  },
  "language_info": {
   "codemirror_mode": {
    "name": "ipython",
    "version": 3
   },
   "file_extension": ".py",
   "mimetype": "text/x-python",
   "name": "python",
   "nbconvert_exporter": "python",
   "pygments_lexer": "ipython3",
   "version": "3.9.12"
  }
 },
 "nbformat": 4,
 "nbformat_minor": 5
}
