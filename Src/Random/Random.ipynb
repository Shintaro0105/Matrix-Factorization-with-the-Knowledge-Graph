{
 "cells": [
  {
   "cell_type": "code",
   "execution_count": 3,
   "id": "cada914a-6b05-4750-8394-a54a0deb98c4",
   "metadata": {},
   "outputs": [
    {
     "name": "stdout",
     "output_type": "stream",
     "text": [
      "[Case Recommender: Item Recommendation > Random Recommender]\n",
      "\n",
      "train data:: 3875 users and 9324 items (258697 interactions) | sparsity:: 99.28%\n",
      "test data:: 3017 users and 6491 items (64675 interactions) | sparsity:: 99.67%\n",
      "\n",
      "prediction_time:: 21.151152 sec\n",
      "\n",
      "\n",
      "Eval:: PREC@1: 0.001989 PREC@3: 0.002431 PREC@5: 0.002254 PREC@10: 0.002519 RECALL@1: 7.1e-05 RECALL@3: 0.00031 RECALL@5: 0.000376 RECALL@10: 0.000808 MAP@1: 0.001989 MAP@3: 0.004033 MAP@5: 0.004911 MAP@10: 0.006595 NDCG@1: 0.001989 NDCG@3: 0.005946 NDCG@5: 0.007774 NDCG@10: 0.012175 \n"
     ]
    }
   ],
   "source": [
    "from caserec.recommenders.item_recommendation.random_rec import RandomRec\n",
    "RandomRec(train_file='../data/um_0.8.train', test_file='../data/um_0.8.test').compute()"
   ]
  },
  {
   "cell_type": "code",
   "execution_count": null,
   "id": "5bb4482b-3dec-463c-94fd-190a7cee1ef7",
   "metadata": {},
   "outputs": [],
   "source": []
  }
 ],
 "metadata": {
  "kernelspec": {
   "display_name": "Python 3 (ipykernel)",
   "language": "python",
   "name": "python3"
  },
  "language_info": {
   "codemirror_mode": {
    "name": "ipython",
    "version": 3
   },
   "file_extension": ".py",
   "mimetype": "text/x-python",
   "name": "python",
   "nbconvert_exporter": "python",
   "pygments_lexer": "ipython3",
   "version": "3.9.12"
  }
 },
 "nbformat": 4,
 "nbformat_minor": 5
}
