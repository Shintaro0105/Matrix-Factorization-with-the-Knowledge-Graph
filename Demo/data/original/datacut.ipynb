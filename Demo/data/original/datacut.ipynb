{
 "cells": [
  {
   "cell_type": "code",
   "execution_count": 28,
   "id": "85f071d3-9018-4466-8e1c-cc9a39414964",
   "metadata": {},
   "outputs": [
    {
     "data": {
      "text/plain": [
       "(4010,)"
      ]
     },
     "execution_count": 28,
     "metadata": {},
     "output_type": "execute_result"
    }
   ],
   "source": [
    "import numpy as np\n",
    "import time\n",
    "import random\n",
    "from math import sqrt,fabs,log\n",
    "import sys\n",
    "from tqdm import tqdm\n",
    "import time\n",
    "random.seed(0)\n",
    "\n",
    "unum = 13367\n",
    "inum = 12677\n",
    "U = np.zeros(unum)\n",
    "for u in range(unum):\n",
    "    U[u]=int(u+1)\n",
    "random.shuffle(U)\n",
    "new_U = U[:int(unum*0.3)]\n",
    "np.shape(new_U)"
   ]
  },
  {
   "cell_type": "code",
   "execution_count": 29,
   "id": "25b9393c-55bc-449a-aa50-60f6e5dc75cb",
   "metadata": {},
   "outputs": [
    {
     "name": "stdout",
     "output_type": "stream",
     "text": [
      "323372\n"
     ]
    }
   ],
   "source": [
    "I = np.zeros(inum+1)\n",
    "cnt=0\n",
    "with open('um.dat', 'r') as infile:\n",
    "    for line in infile.readlines():\n",
    "        user, item, rating = line.strip().split('\\t')\n",
    "        if int(user) in new_U:\n",
    "            I[int(item)]+=1\n",
    "            cnt+=1\n",
    "print(cnt)"
   ]
  },
  {
   "cell_type": "code",
   "execution_count": 30,
   "id": "3ead34f5-9e90-4302-92f8-3fb803576c03",
   "metadata": {},
   "outputs": [
    {
     "name": "stdout",
     "output_type": "stream",
     "text": [
      "9788\n"
     ]
    }
   ],
   "source": [
    "I_list = np.zeros([inum+1])\n",
    "cnt=0\n",
    "for i in range(inum+1):\n",
    "    if I[i]>0:\n",
    "        cnt+=1\n",
    "        I_list[i]=cnt\n",
    "print(cnt)"
   ]
  },
  {
   "cell_type": "code",
   "execution_count": 31,
   "id": "7bd48f7a-b4b7-471a-ba28-a09a9530766e",
   "metadata": {},
   "outputs": [
    {
     "data": {
      "text/plain": [
       "<BarContainer object of 9788 artists>"
      ]
     },
     "execution_count": 31,
     "metadata": {},
     "output_type": "execute_result"
    },
    {
     "data": {
      "image/png": "[encoded data removed]",
      "text/plain": [
       "<Figure size 640x480 with 1 Axes>"
      ]
     },
     "metadata": {},
     "output_type": "display_data"
    }
   ],
   "source": [
    "import matplotlib.pyplot as plt\n",
    "I_a=sorted(I,reverse=True)\n",
    "I_b=I_a[:int(cnt)]\n",
    "plt.xlabel(\"Item Rank\")\n",
    "plt.ylabel(\"Frequency\")\n",
    "plt.bar(range(len(I_b)),I_b)"
   ]
  },
  {
   "cell_type": "code",
   "execution_count": 36,
   "id": "f42434d1-cf5e-45e2-9b87-af5000c2ff78",
   "metadata": {},
   "outputs": [
    {
     "name": "stdout",
     "output_type": "stream",
     "text": [
      "4010\n"
     ]
    }
   ],
   "source": [
    "U_list=np.zeros([unum+1])\n",
    "cnt=0\n",
    "for i in range(unum+1):\n",
    "    if int(i) in new_U:\n",
    "        cnt+=1\n",
    "        U_list[i]=cnt\n",
    "print(cnt)"
   ]
  },
  {
   "cell_type": "code",
   "execution_count": 57,
   "id": "4f685016-bde8-41e9-ade9-a4b4162eae96",
   "metadata": {},
   "outputs": [],
   "source": [
    "R = []\n",
    "with open('um.dat', 'r') as infile:\n",
    "    for line in infile.readlines():\n",
    "        user, item, rating = line.strip().split('\\t')\n",
    "        if int(user) in new_U:\n",
    "            R.append([str(int(U_list[int(user)])), str(int(I_list[int(item)])), rating])"
   ]
  },
  {
   "cell_type": "code",
   "execution_count": 50,
   "id": "f3c6abe1-53e4-4f06-a799-17e6938ac64c",
   "metadata": {},
   "outputs": [],
   "source": [
    "np.shape(R)\n",
    "with open('../um.dat', 'w') as file:\n",
    "    for r in R:\n",
    "        file.write('\\t'.join(r) + '\\n')"
   ]
  },
  {
   "cell_type": "code",
   "execution_count": 53,
   "id": "ccffe835-a165-4f77-85b1-b1cc1321d712",
   "metadata": {},
   "outputs": [],
   "source": [
    "G = []\n",
    "with open('ug.dat', 'r') as infile:\n",
    "    for line in infile.readlines():\n",
    "        user, item, rating = line.strip().split('\\t')\n",
    "        if int(user) in new_U:\n",
    "            G.append([str(int(U_list[int(user)])), item, rating])"
   ]
  },
  {
   "cell_type": "code",
   "execution_count": 78,
   "id": "396fe16d-2b13-4e4a-88ca-00163f176325",
   "metadata": {},
   "outputs": [
    {
     "data": {
      "text/plain": [
       "(9033, 3)"
      ]
     },
     "execution_count": 78,
     "metadata": {},
     "output_type": "execute_result"
    }
   ],
   "source": [
    "np.shape(D)"
   ]
  },
  {
   "cell_type": "code",
   "execution_count": 70,
   "id": "a0c304ff-b1a2-49e3-8964-20acbd780c39",
   "metadata": {},
   "outputs": [],
   "source": [
    "A = []\n",
    "with open('ma.dat', 'r') as infile:\n",
    "    for line in infile.readlines():\n",
    "        user, item, rating = line.strip().split('\\t')\n",
    "        if I_list[int(user)]>0:\n",
    "            A.append([str(int(I_list[int(user)])), item, rating])"
   ]
  },
  {
   "cell_type": "code",
   "execution_count": 72,
   "id": "f591a62b-0de1-4a18-91ed-ce51c63ae5ea",
   "metadata": {},
   "outputs": [],
   "source": [
    "with open('../ma.dat', 'w') as file:\n",
    "    for a in A:\n",
    "        file.write('\\t'.join(a) + '\\n')"
   ]
  },
  {
   "cell_type": "code",
   "execution_count": 73,
   "id": "d4e878d3-e0ca-49cb-8205-6fa101c34af4",
   "metadata": {},
   "outputs": [],
   "source": [
    "T = []\n",
    "with open('mt.dat', 'r') as infile:\n",
    "    for line in infile.readlines():\n",
    "        user, item, rating = line.strip().split('\\t')\n",
    "        if I_list[int(user)]>0:\n",
    "            T.append([str(int(I_list[int(user)])), item, rating])"
   ]
  },
  {
   "cell_type": "code",
   "execution_count": 75,
   "id": "67829731-9aa3-446f-a287-c986a43547b2",
   "metadata": {},
   "outputs": [],
   "source": [
    "with open('../mt.dat', 'w') as file:\n",
    "    for t in T:\n",
    "        file.write('\\t'.join(t) + '\\n')"
   ]
  },
  {
   "cell_type": "code",
   "execution_count": 76,
   "id": "2f7c5342-3f5e-4bf5-9780-69e8308edb1e",
   "metadata": {},
   "outputs": [],
   "source": [
    "D = []\n",
    "with open('md.dat', 'r') as infile:\n",
    "    for line in infile.readlines():\n",
    "        user, item, rating = line.strip().split('\\t')\n",
    "        if I_list[int(user)]>0:\n",
    "            D.append([str(int(I_list[int(user)])), item, rating])"
   ]
  },
  {
   "cell_type": "code",
   "execution_count": 77,
   "id": "ab2063f9-73e0-4291-8bfb-8657e384278f",
   "metadata": {},
   "outputs": [],
   "source": [
    "with open('../md.dat', 'w') as file:\n",
    "    for d in D:\n",
    "        file.write('\\t'.join(d) + '\\n')"
   ]
  },
  {
   "cell_type": "code",
   "execution_count": null,
   "id": "8df67eb6-721e-4759-8bc5-82c56a604a69",
   "metadata": {},
   "outputs": [],
   "source": []
  }
 ],
 "metadata": {
  "kernelspec": {
   "display_name": "Python 3 (ipykernel)",
   "language": "python",
   "name": "python3"
  },
  "language_info": {
   "codemirror_mode": {
    "name": "ipython",
    "version": 3
   },
   "file_extension": ".py",
   "mimetype": "text/x-python",
   "name": "python",
   "nbconvert_exporter": "python",
   "pygments_lexer": "ipython3",
   "version": "3.9.12"
  }
 },
 "nbformat": 4,
 "nbformat_minor": 5
}
