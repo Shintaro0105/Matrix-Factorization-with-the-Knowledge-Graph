{
 "cells": [
  {
   "cell_type": "code",
   "execution_count": null,
   "id": "c368698a-088b-4f46-8f56-071efe219027",
   "metadata": {},
   "outputs": [],
   "source": [
    "from caserec.recommenders.item_recommendation.itemknn import ItemKNN\n",
    "ItemKNN(train_file='../code/um_0.8.train', test_file='../code/um_0.8.test', output_file='ItemKNN.dat').compute(n_ranks=[10,20])"
   ]
  }
 ],
 "metadata": {
  "kernelspec": {
   "display_name": "",
   "name": ""
  },
  "language_info": {
   "name": ""
  }
 },
 "nbformat": 4,
 "nbformat_minor": 5
}
