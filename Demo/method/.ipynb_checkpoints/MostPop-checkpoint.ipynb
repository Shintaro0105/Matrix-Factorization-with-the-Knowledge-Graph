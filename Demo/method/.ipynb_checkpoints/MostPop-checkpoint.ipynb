{
 "cells": [
  {
   "cell_type": "code",
   "execution_count": null,
   "id": "38c34722-f43b-428b-ad8d-b64b907fd80c",
   "metadata": {},
   "outputs": [],
   "source": [
    "from caserec.recommenders.item_recommendation.random_rec import RandomRec\n",
    "RandomRec(train_file='um_0.8.train', test_file='um_0.8.test').compute()"
   ]
  }
 ],
 "metadata": {
  "kernelspec": {
   "display_name": "Python 3 (ipykernel)",
   "language": "python",
   "name": "python3"
  },
  "language_info": {
   "codemirror_mode": {
    "name": "ipython",
    "version": 3
   },
   "file_extension": ".py",
   "mimetype": "text/x-python",
   "name": "python",
   "nbconvert_exporter": "python",
   "pygments_lexer": "ipython3",
   "version": "3.9.12"
  }
 },
 "nbformat": 4,
 "nbformat_minor": 5
}
