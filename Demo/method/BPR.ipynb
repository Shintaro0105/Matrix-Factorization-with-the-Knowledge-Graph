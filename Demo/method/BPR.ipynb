{
 "cells": [
  {
   "cell_type": "code",
   "execution_count": 23,
   "id": "1256d125-4e15-4ebf-81fd-b3c0f56e3227",
   "metadata": {},
   "outputs": [
    {
     "name": "stdout",
     "output_type": "stream",
     "text": [
      "System version: 3.8.10 (default, Sep 28 2021, 16:10:42) \n",
      "[GCC 9.3.0]\n",
      "Cornac version: 1.14.2\n"
     ]
    }
   ],
   "source": [
    "import sys\n",
    "import os\n",
    "import cornac\n",
    "import papermill as pm\n",
    "import scrapbook as sb\n",
    "import pandas as pd\n",
    "from recommenders.datasets import movielens\n",
    "from recommenders.datasets.python_splitters import python_random_split\n",
    "from recommenders.evaluation.python_evaluation import map_at_k, ndcg_at_k, precision_at_k, recall_at_k\n",
    "from recommenders.models.cornac.cornac_utils import predict_ranking\n",
    "from recommenders.utils.timer import Timer\n",
    "from recommenders.utils.constants import SEED\n",
    "\n",
    "print(\"System version: {}\".format(sys.version))\n",
    "print(\"Cornac version: {}\".format(cornac.__version__))"
   ]
  },
  {
   "cell_type": "code",
   "execution_count": 24,
   "id": "3603a019-1021-49e3-9f25-3ce6f1ed6453",
   "metadata": {},
   "outputs": [],
   "source": [
    "data = []\n",
    "with open('../data/um.dat', 'r') as infile:\n",
    "    for line in infile.readlines():\n",
    "        user, item, rating = line.strip().split('\\t')\n",
    "        data.append([user, item, rating])\n",
    "        \n",
    "R = pd.DataFrame(data=data, columns=[\"userID\", \"itemID\", \"rating\"])"
   ]
  },
  {
   "cell_type": "code",
   "execution_count": 25,
   "id": "05e9d62d-a50c-40f2-a341-4e5e0a4a9c5d",
   "metadata": {},
   "outputs": [],
   "source": [
    "data = []\n",
    "with open('../data/um_0.8.train', 'r') as infile:\n",
    "    for line in infile.readlines():\n",
    "        user, item, rating = line.strip().split('\\t')\n",
    "        data.append([user, item, rating])\n",
    "        \n",
    "train = pd.DataFrame(data=data, columns=[\"userID\", \"itemID\", \"rating\"])\n",
    "data = []\n",
    "with open('../data/um_0.8.test', 'r') as infile:\n",
    "    for line in infile.readlines():\n",
    "        user, item, rating = line.strip().split('\\t')\n",
    "        data.append([user, item, rating])\n",
    "        \n",
    "test = pd.DataFrame(data=data, columns=[\"userID\", \"itemID\", \"rating\"])"
   ]
  },
  {
   "cell_type": "code",
   "execution_count": 26,
   "id": "eb238987-4275-4acb-9ed8-56104c661a2d",
   "metadata": {},
   "outputs": [
    {
     "name": "stdout",
     "output_type": "stream",
     "text": [
      "Number of users: 3872\n",
      "Number of items: 9340\n"
     ]
    }
   ],
   "source": [
    "train_set = cornac.data.Dataset.from_uir(train.itertuples(index=False), seed=SEED)\n",
    "\n",
    "print('Number of users: {}'.format(train_set.num_users))\n",
    "print('Number of items: {}'.format(train_set.num_items))\n",
    "NUM_FACTORS = 200\n",
    "NUM_EPOCHS = 100\n",
    "bpr = cornac.models.BPR(\n",
    "    k=NUM_FACTORS,\n",
    "    max_iter=NUM_EPOCHS,\n",
    "    learning_rate=0.01,\n",
    "    lambda_reg=0.001,\n",
    "    verbose=True,\n",
    "    seed=SEED\n",
    ")"
   ]
  },
  {
   "cell_type": "code",
   "execution_count": 27,
   "id": "ce34840b-f0b3-426a-a2a6-8343a55a23e3",
   "metadata": {},
   "outputs": [
    {
     "data": {
      "application/vnd.jupyter.widget-view+json": {
       "model_id": "c0fe28f131f54b028dc20c7666491552",
       "version_major": 2,
       "version_minor": 0
      },
      "text/plain": [
       "  0%|          | 0/100 [00:00<?, ?it/s]"
      ]
     },
     "metadata": {},
     "output_type": "display_data"
    },
    {
     "name": "stdout",
     "output_type": "stream",
     "text": [
      "Optimization finished!\n",
      "Took 7.0481 seconds for training.\n"
     ]
    }
   ],
   "source": [
    "with Timer() as t:\n",
    "    bpr.fit(train_set)\n",
    "print(\"Took {} seconds for training.\".format(t))"
   ]
  },
  {
   "cell_type": "code",
   "execution_count": 28,
   "id": "e964b62c-a5c9-43de-9e00-d5d9f0e4c8a4",
   "metadata": {},
   "outputs": [
    {
     "name": "stdout",
     "output_type": "stream",
     "text": [
      "Took 131.3814 seconds for prediction.\n"
     ]
    }
   ],
   "source": [
    "with Timer() as t:\n",
    "    all_predictions = predict_ranking(bpr, train, usercol='userID', itemcol='itemID', remove_seen=True)\n",
    "print(\"Took {} seconds for prediction.\".format(t))"
   ]
  },
  {
   "cell_type": "code",
   "execution_count": 29,
   "id": "6276a01f-cc9b-474c-a5fc-6c7ef379d685",
   "metadata": {},
   "outputs": [
    {
     "data": {
      "text/html": [
       "<div>\n",
       "<style scoped>\n",
       "    .dataframe tbody tr th:only-of-type {\n",
       "        vertical-align: middle;\n",
       "    }\n",
       "\n",
       "    .dataframe tbody tr th {\n",
       "        vertical-align: top;\n",
       "    }\n",
       "\n",
       "    .dataframe thead th {\n",
       "        text-align: right;\n",
       "    }\n",
       "</style>\n",
       "<table border=\"1\" class=\"dataframe\">\n",
       "  <thead>\n",
       "    <tr style=\"text-align: right;\">\n",
       "      <th></th>\n",
       "      <th>userID</th>\n",
       "      <th>itemID</th>\n",
       "      <th>prediction</th>\n",
       "    </tr>\n",
       "  </thead>\n",
       "  <tbody>\n",
       "    <tr>\n",
       "      <th>258697</th>\n",
       "      <td>163</td>\n",
       "      <td>7516</td>\n",
       "      <td>2.346899</td>\n",
       "    </tr>\n",
       "    <tr>\n",
       "      <th>258698</th>\n",
       "      <td>163</td>\n",
       "      <td>3984</td>\n",
       "      <td>1.626166</td>\n",
       "    </tr>\n",
       "    <tr>\n",
       "      <th>258699</th>\n",
       "      <td>163</td>\n",
       "      <td>7779</td>\n",
       "      <td>2.206607</td>\n",
       "    </tr>\n",
       "    <tr>\n",
       "      <th>258700</th>\n",
       "      <td>163</td>\n",
       "      <td>3849</td>\n",
       "      <td>2.548229</td>\n",
       "    </tr>\n",
       "    <tr>\n",
       "      <th>258701</th>\n",
       "      <td>163</td>\n",
       "      <td>1604</td>\n",
       "      <td>2.398134</td>\n",
       "    </tr>\n",
       "    <tr>\n",
       "      <th>...</th>\n",
       "      <td>...</td>\n",
       "      <td>...</td>\n",
       "      <td>...</td>\n",
       "    </tr>\n",
       "    <tr>\n",
       "      <th>36164475</th>\n",
       "      <td>2898</td>\n",
       "      <td>6157</td>\n",
       "      <td>-1.491740</td>\n",
       "    </tr>\n",
       "    <tr>\n",
       "      <th>36164476</th>\n",
       "      <td>2898</td>\n",
       "      <td>1247</td>\n",
       "      <td>-1.406347</td>\n",
       "    </tr>\n",
       "    <tr>\n",
       "      <th>36164477</th>\n",
       "      <td>2898</td>\n",
       "      <td>3960</td>\n",
       "      <td>-1.345185</td>\n",
       "    </tr>\n",
       "    <tr>\n",
       "      <th>36164478</th>\n",
       "      <td>2898</td>\n",
       "      <td>8727</td>\n",
       "      <td>-1.380266</td>\n",
       "    </tr>\n",
       "    <tr>\n",
       "      <th>36164479</th>\n",
       "      <td>2898</td>\n",
       "      <td>6289</td>\n",
       "      <td>-1.447022</td>\n",
       "    </tr>\n",
       "  </tbody>\n",
       "</table>\n",
       "<p>35905783 rows × 3 columns</p>\n",
       "</div>"
      ],
      "text/plain": [
       "         userID itemID  prediction\n",
       "258697      163   7516    2.346899\n",
       "258698      163   3984    1.626166\n",
       "258699      163   7779    2.206607\n",
       "258700      163   3849    2.548229\n",
       "258701      163   1604    2.398134\n",
       "...         ...    ...         ...\n",
       "36164475   2898   6157   -1.491740\n",
       "36164476   2898   1247   -1.406347\n",
       "36164477   2898   3960   -1.345185\n",
       "36164478   2898   8727   -1.380266\n",
       "36164479   2898   6289   -1.447022\n",
       "\n",
       "[35905783 rows x 3 columns]"
      ]
     },
     "execution_count": 29,
     "metadata": {},
     "output_type": "execute_result"
    }
   ],
   "source": [
    "all_predictions"
   ]
  },
  {
   "cell_type": "code",
   "execution_count": 30,
   "id": "954fa449-05d2-4e28-ab9f-f5d064995780",
   "metadata": {},
   "outputs": [
    {
     "name": "stdout",
     "output_type": "stream",
     "text": [
      "Precision@K:\t0.136264\n",
      "Recall@K:\t0.079071\n"
     ]
    }
   ],
   "source": [
    "k = 10\n",
    "eval_precision = precision_at_k(test, all_predictions, col_prediction='prediction', k=k)\n",
    "eval_recall = recall_at_k(test, all_predictions, col_prediction='prediction', k=k)\n",
    "\n",
    "print(\"Precision@K:\\t%f\" % eval_precision,\n",
    "      \"Recall@K:\\t%f\" % eval_recall, sep='\\n')"
   ]
  },
  {
   "cell_type": "code",
   "execution_count": 31,
   "id": "4234929d-616e-4d1b-9394-e2681cb92db6",
   "metadata": {},
   "outputs": [
    {
     "name": "stdout",
     "output_type": "stream",
     "text": [
      "Precision@K:\t0.112425\n",
      "Recall@K:\t0.126796\n"
     ]
    }
   ],
   "source": [
    "k = 20\n",
    "eval_precision = precision_at_k(test, all_predictions, col_prediction='prediction', k=k)\n",
    "eval_recall = recall_at_k(test, all_predictions, col_prediction='prediction', k=k)\n",
    "\n",
    "print(\"Precision@K:\\t%f\" % eval_precision,\n",
    "      \"Recall@K:\\t%f\" % eval_recall, sep='\\n')"
   ]
  },
  {
   "cell_type": "code",
   "execution_count": null,
   "id": "96c0e1b1-69ba-45d7-8945-f08ee5f39b43",
   "metadata": {},
   "outputs": [],
   "source": []
  }
 ],
 "metadata": {
  "kernelspec": {
   "display_name": "Python 3 (ipykernel)",
   "language": "python",
   "name": "python3"
  },
  "language_info": {
   "codemirror_mode": {
    "name": "ipython",
    "version": 3
   },
   "file_extension": ".py",
   "mimetype": "text/x-python",
   "name": "python",
   "nbconvert_exporter": "python",
   "pygments_lexer": "ipython3",
   "version": "3.8.10"
  }
 },
 "nbformat": 4,
 "nbformat_minor": 5
}
